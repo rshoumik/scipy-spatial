{
 "metadata": {
  "name": "",
  "signature": "sha256:d6b87383d0cd90698521a58b4992769deb4d8f2b08c6b60d08219a38ddae6592"
 },
 "nbformat": 3,
 "nbformat_minor": 0,
 "worksheets": [
  {
   "cells": [
    {
     "cell_type": "heading",
     "level": 1,
     "metadata": {},
     "source": [
      "Spatial algorithms and data structures (scipy.spatial)"
     ]
    },
    {
     "cell_type": "markdown",
     "metadata": {},
     "source": [
      "scipy.spatial is a subpackage of scipy"
     ]
    },
    {
     "cell_type": "heading",
     "level": 2,
     "metadata": {},
     "source": [
      "Some background on scipy: "
     ]
    },
    {
     "cell_type": "markdown",
     "metadata": {},
     "source": [
      "- SciPy is open-source software for mathematical algorithms and convenience functions\n",
      "- SciPy is built on the Numpy extension of Python.\n",
      "\n",
      "- Release:\t0.14.0\n",
      "- Date:\tMay 11, 2014"
     ]
    },
    {
     "cell_type": "markdown",
     "metadata": {},
     "source": [
      "SciPy is organized into subpackages covering different scientific computing domains.\n",
      "\n",
      "- cluster:\tClustering algorithms\n",
      "- constants:\tPhysical and mathematical constants\n",
      "- fftpack:\tFast Fourier Transform routines\n",
      "- integrate:\tIntegration and ordinary differential equation solvers\n",
      "- interpolate:\tInterpolation and smoothing splines\n",
      "- io:\tInput and Output\n",
      "- linalg:\tLinear algebra\n",
      "- ndimage:\tN-dimensional image processing\n",
      "- odr:\tOrthogonal distance regression\n",
      "- optimize:\tOptimization and root-finding routines\n",
      "- signal:\tSignal processing\n",
      "- sparse:\tSparse matrices and associated routines\n",
      "- spatial:\tSpatial data structures and algorithms\n",
      "- special:\tSpecial functions\n",
      "- stats:\tStatistical distributions and functions\n",
      "- weave:\tC/C++ integration"
     ]
    },
    {
     "cell_type": "code",
     "collapsed": false,
     "input": [
      "# keep the graphics inside the Notebook\n",
      "%matplotlib inline"
     ],
     "language": "python",
     "metadata": {},
     "outputs": []
    },
    {
     "cell_type": "code",
     "collapsed": false,
     "input": [
      "import numpy as np\n",
      "import scipy as sp\n",
      "import matplotlib.pyplot as plt\n",
      "from scipy.spatial import Delaunay"
     ],
     "language": "python",
     "metadata": {},
     "outputs": []
    },
    {
     "cell_type": "code",
     "collapsed": false,
     "input": [
      "print dir(sp)"
     ],
     "language": "python",
     "metadata": {},
     "outputs": []
    },
    {
     "cell_type": "heading",
     "level": 2,
     "metadata": {},
     "source": [
      "scipy.spatial"
     ]
    },
    {
     "cell_type": "markdown",
     "metadata": {},
     "source": [
      "Qhull (http://qhull.org/) is general source code for computing various diagrams\n",
      "\n",
      "With the help of the Qhull library, scipy.spatial can compute:\n",
      " \n",
      "- Triangulations,  \n",
      "- Convex hulls of a set of points,\n",
      "- Voronoi diagrams,  \n",
      "- KDTree: for quick nearest neighbor lookup,\n",
      "- Distance"
     ]
    },
    {
     "cell_type": "code",
     "collapsed": false,
     "input": [
      "print dir(sp.spatial)"
     ],
     "language": "python",
     "metadata": {},
     "outputs": []
    },
    {
     "cell_type": "heading",
     "level": 2,
     "metadata": {},
     "source": [
      "Delaunay triangulations"
     ]
    },
    {
     "cell_type": "markdown",
     "metadata": {},
     "source": [
      "The Delaunay triangulation is a subdivision of a set of points into a non-overlapping set of triangles, such that no point is inside the circumcircle of any triangle. In practice, such triangulations tend to avoid triangles with small angles."
     ]
    },
    {
     "cell_type": "code",
     "collapsed": false,
     "input": [
      "help(Delaunay)"
     ],
     "language": "python",
     "metadata": {},
     "outputs": []
    },
    {
     "cell_type": "markdown",
     "metadata": {},
     "source": [
      "Delaunay triangulation can be computed using scipy.spatial as follows:"
     ]
    },
    {
     "cell_type": "code",
     "collapsed": false,
     "input": [
      "points = np.array([[0, 0], [0, 1.1], [1, 0], [1, 1]])\n",
      "tri = Delaunay(points)\n",
      "np.unique(tri.simplices.ravel())"
     ],
     "language": "python",
     "metadata": {},
     "outputs": []
    },
    {
     "cell_type": "code",
     "collapsed": false,
     "input": [
      "tri.simplices.ravel()"
     ],
     "language": "python",
     "metadata": {},
     "outputs": []
    },
    {
     "cell_type": "code",
     "collapsed": false,
     "input": [
      "print dir(tri)"
     ],
     "language": "python",
     "metadata": {},
     "outputs": []
    },
    {
     "cell_type": "code",
     "collapsed": false,
     "input": [
      "tri.coplanar"
     ],
     "language": "python",
     "metadata": {},
     "outputs": []
    },
    {
     "cell_type": "markdown",
     "metadata": {},
     "source": [
      "We can plot it"
     ]
    },
    {
     "cell_type": "code",
     "collapsed": false,
     "input": [
      "plt.triplot(points[:,0], points[:,1], tri.simplices.copy())\n",
      "\n",
      "plt.xlim(-0.5, 1.5); plt.ylim(-0.5, 1.5)\n",
      "plt.show()"
     ],
     "language": "python",
     "metadata": {},
     "outputs": []
    },
    {
     "cell_type": "code",
     "collapsed": false,
     "input": [
      "plt.plot(points[:,0], points[:,1], 'o')\n",
      "\n",
      "plt.xlim(-0.5, 1.5); plt.ylim(-0.5, 1.5)\n",
      "plt.show()"
     ],
     "language": "python",
     "metadata": {},
     "outputs": []
    },
    {
     "cell_type": "code",
     "collapsed": false,
     "input": [
      "# And add some further decorations:\n",
      "for j, p in enumerate(points):\n",
      "    plt.text(p[0]-0.03, p[1]+0.03, j, ha='right') # label the points\n",
      "for j, s in enumerate(tri.simplices):\n",
      "    p = points[s].mean(axis=0)\n",
      "    plt.text(p[0], p[1], '#%d' % j, ha='center') # label triangles\n",
      "plt.xlim(-0.5, 1.5); plt.ylim(-0.5, 1.5)\n",
      "plt.show()"
     ],
     "language": "python",
     "metadata": {},
     "outputs": []
    },
    {
     "cell_type": "markdown",
     "metadata": {},
     "source": [
      "Put it all together"
     ]
    },
    {
     "cell_type": "code",
     "collapsed": false,
     "input": [
      "plt.triplot(points[:,0], points[:,1], tri.simplices.copy())\n",
      "plt.plot(points[:,0], points[:,1], 'o')\n",
      "\n",
      "for j, p in enumerate(points):\n",
      "    plt.text(p[0]-0.03, p[1]+0.03, j, ha='right') # label the points\n",
      "for j, s in enumerate(tri.simplices):\n",
      "    p = points[s].mean(axis=0)\n",
      "    plt.text(p[0], p[1], '#%d' % j, ha='center') # label triangles\n",
      "plt.xlim(-0.5, 1.5); plt.ylim(-0.5, 1.5)\n",
      "plt.show()"
     ],
     "language": "python",
     "metadata": {},
     "outputs": []
    },
    {
     "cell_type": "markdown",
     "metadata": {},
     "source": [
      "Find the number of triangles with .nsimplex"
     ]
    },
    {
     "cell_type": "code",
     "collapsed": false,
     "input": [
      "tri.nsimplex"
     ],
     "language": "python",
     "metadata": {},
     "outputs": []
    },
    {
     "cell_type": "markdown",
     "metadata": {},
     "source": [
      "Find which vertex is nearest to which simplex"
     ]
    },
    {
     "cell_type": "code",
     "collapsed": false,
     "input": [
      "tri.vertex_to_simplex"
     ],
     "language": "python",
     "metadata": {},
     "outputs": []
    },
    {
     "cell_type": "markdown",
     "metadata": {},
     "source": [
      "Find maximum boundary of the figure"
     ]
    },
    {
     "cell_type": "code",
     "collapsed": false,
     "input": [
      "tri.max_bound"
     ],
     "language": "python",
     "metadata": {},
     "outputs": []
    },
    {
     "cell_type": "markdown",
     "metadata": {},
     "source": [
      "Find minimum boundary of the figure"
     ]
    },
    {
     "cell_type": "code",
     "collapsed": false,
     "input": [
      "tri.min_bound"
     ],
     "language": "python",
     "metadata": {},
     "outputs": []
    },
    {
     "cell_type": "markdown",
     "metadata": {},
     "source": [
      "The simplices attribute contains the point indices of the triangles"
     ]
    },
    {
     "cell_type": "code",
     "collapsed": false,
     "input": [
      "tri.simplices"
     ],
     "language": "python",
     "metadata": {},
     "outputs": []
    },
    {
     "cell_type": "markdown",
     "metadata": {},
     "source": [
      "The coordinates of the two triangles can be found:"
     ]
    },
    {
     "cell_type": "code",
     "collapsed": false,
     "input": [
      "points[tri.simplices]"
     ],
     "language": "python",
     "metadata": {},
     "outputs": []
    },
    {
     "cell_type": "markdown",
     "metadata": {},
     "source": [
      "To find coordinates of just triangle #0"
     ]
    },
    {
     "cell_type": "code",
     "collapsed": false,
     "input": [
      "points[tri.simplices[0]]"
     ],
     "language": "python",
     "metadata": {},
     "outputs": []
    },
    {
     "cell_type": "markdown",
     "metadata": {},
     "source": [
      "The neighboring triangles can be found:"
     ]
    },
    {
     "cell_type": "code",
     "collapsed": false,
     "input": [
      "tri.neighbors[1]"
     ],
     "language": "python",
     "metadata": {},
     "outputs": []
    },
    {
     "cell_type": "code",
     "collapsed": false,
     "input": [
      "tri.neighbors[0]"
     ],
     "language": "python",
     "metadata": {},
     "outputs": []
    },
    {
     "cell_type": "markdown",
     "metadata": {},
     "source": [
      "Hence triangle #1 and #0 are neighbors, but have no other neighbors "
     ]
    },
    {
     "cell_type": "markdown",
     "metadata": {},
     "source": [
      "Find certain vertices from certain triangles: simplices[triangle#, vertex#]"
     ]
    },
    {
     "cell_type": "code",
     "collapsed": false,
     "input": [
      "points[tri.simplices[0, 0]]"
     ],
     "language": "python",
     "metadata": {},
     "outputs": []
    },
    {
     "cell_type": "code",
     "collapsed": false,
     "input": [
      "points[tri.simplices[0, 2]]"
     ],
     "language": "python",
     "metadata": {},
     "outputs": []
    },
    {
     "cell_type": "code",
     "collapsed": false,
     "input": [
      "points[tri.simplices[0, 3]]"
     ],
     "language": "python",
     "metadata": {},
     "outputs": []
    },
    {
     "cell_type": "markdown",
     "metadata": {},
     "source": [
      "Triangle #0 does not have a 4th vertex"
     ]
    },
    {
     "cell_type": "code",
     "collapsed": false,
     "input": [
      "points[tri.simplices[2, 0]]"
     ],
     "language": "python",
     "metadata": {},
     "outputs": []
    },
    {
     "cell_type": "markdown",
     "metadata": {},
     "source": [
      "There is no triangle #3"
     ]
    },
    {
     "cell_type": "markdown",
     "metadata": {},
     "source": [
      "We can find out which triangle some points are in:"
     ]
    },
    {
     "cell_type": "code",
     "collapsed": false,
     "input": [
      "p = np.array([(0.1, 0.5), (0.5, 0.2), (0.75, 0.3), (1.5, 1.5)])\n",
      "tri.find_simplex(p)"
     ],
     "language": "python",
     "metadata": {},
     "outputs": []
    },
    {
     "cell_type": "heading",
     "level": 3,
     "metadata": {},
     "source": [
      "Coplanar points"
     ]
    },
    {
     "cell_type": "markdown",
     "metadata": {},
     "source": [
      "Sometimes input points do not appear as vertices in the triangulation. Consider duplicated points:"
     ]
    },
    {
     "cell_type": "code",
     "collapsed": false,
     "input": [
      "points = np.array([[0, 0], [0, 1], [0, 1], [1, 0], [1, 1], [1, 1]])\n",
      "tri = Delaunay(points)\n",
      "np.unique(tri.simplices.ravel())"
     ],
     "language": "python",
     "metadata": {},
     "outputs": []
    },
    {
     "cell_type": "markdown",
     "metadata": {},
     "source": [
      "Notice that point #2 and #5, which are a duplicates, do not occur as a vertex of the triangulation. That this happened is recorded:"
     ]
    },
    {
     "cell_type": "code",
     "collapsed": false,
     "input": [
      "tri.coplanar"
     ],
     "language": "python",
     "metadata": {},
     "outputs": []
    },
    {
     "cell_type": "markdown",
     "metadata": {},
     "source": [
      "This means that point 5 resides near triangle 0 and vertex 4, \n",
      "and point 2 resides near triangle 0 and vertex 1, but are not included in the triangulation.\n",
      "\n",
      "To illustrate it:"
     ]
    },
    {
     "cell_type": "code",
     "collapsed": false,
     "input": [
      "plt.triplot(points[:,0], points[:,1], tri.simplices.copy())\n",
      "plt.plot(points[:,0], points[:,1], 'o')\n",
      "\n",
      "for j, p in enumerate(points):\n",
      "    plt.text(p[0]-0.03, p[1]+0.03, j, ha='right') # label the points\n",
      "for j, s in enumerate(tri.simplices):\n",
      "    p = points[s].mean(axis=0)\n",
      "    plt.text(p[0], p[1], '#%d' % j, ha='center') # label triangles\n",
      "plt.xlim(-0.5, 1.5); plt.ylim(-0.5, 1.5)\n",
      "plt.show()"
     ],
     "language": "python",
     "metadata": {},
     "outputs": []
    },
    {
     "cell_type": "markdown",
     "metadata": {},
     "source": [
      "However, Qhull has the \u201cQJ\u201d option, which instructs it to perturb the input data randomly until degeneracies are resolved:"
     ]
    },
    {
     "cell_type": "code",
     "collapsed": false,
     "input": [
      "tri = Delaunay(points, qhull_options=\"QJ Pp\")\n",
      "points[tri.simplices]"
     ],
     "language": "python",
     "metadata": {},
     "outputs": []
    },
    {
     "cell_type": "markdown",
     "metadata": {},
     "source": [
      "Two new triangles appeared. However, we see that they are degenerate and have zero area.\n",
      "\n",
      "To illustrate it: "
     ]
    },
    {
     "cell_type": "code",
     "collapsed": false,
     "input": [
      "plt.triplot(points[:,0], points[:,1], tri.simplices.copy())\n",
      "plt.plot(points[:,0], points[:,1], 'o')\n",
      "\n",
      "for j, p in enumerate(points):\n",
      "    plt.text(p[0]-0.03, p[1]+0.03, j, ha='right') # label the points\n",
      "for j, s in enumerate(tri.simplices):\n",
      "    p = points[s].mean(axis=0)\n",
      "    plt.text(p[0], p[1], '#%d' % j, ha='center') # label triangles\n",
      "plt.xlim(-0.5, 1.5); plt.ylim(-0.5, 1.5)\n",
      "plt.show()"
     ],
     "language": "python",
     "metadata": {},
     "outputs": []
    },
    {
     "cell_type": "code",
     "collapsed": false,
     "input": [
      "tri.nsimplex"
     ],
     "language": "python",
     "metadata": {},
     "outputs": []
    },
    {
     "cell_type": "code",
     "collapsed": false,
     "input": [
      "tri.simplices"
     ],
     "language": "python",
     "metadata": {},
     "outputs": []
    },
    {
     "cell_type": "markdown",
     "metadata": {},
     "source": [
      "Let's see Delaunay triangulation for some random points"
     ]
    },
    {
     "cell_type": "code",
     "collapsed": false,
     "input": [
      "points = np.random.rand(20, 2)   # 20 random points in 2-D\n",
      "print points"
     ],
     "language": "python",
     "metadata": {},
     "outputs": []
    },
    {
     "cell_type": "code",
     "collapsed": false,
     "input": [
      "tri = Delaunay(points)\n",
      "np.unique(tri.simplices.ravel())"
     ],
     "language": "python",
     "metadata": {},
     "outputs": []
    },
    {
     "cell_type": "code",
     "collapsed": false,
     "input": [
      "tri.coplanar"
     ],
     "language": "python",
     "metadata": {},
     "outputs": []
    },
    {
     "cell_type": "code",
     "collapsed": false,
     "input": [
      "plt.plot(points[:,0], points[:,1], 'o')\n",
      "\n",
      "plt.xlim(-0.1, 1.1); plt.ylim(-0.1, 1.1)\n",
      "plt.show()"
     ],
     "language": "python",
     "metadata": {},
     "outputs": []
    },
    {
     "cell_type": "code",
     "collapsed": false,
     "input": [
      "plt.triplot(points[:,0], points[:,1], tri.simplices.copy())\n",
      "plt.plot(points[:,0], points[:,1], 'o')\n",
      "\n",
      "plt.xlim(-0.1, 1.1); plt.ylim(-0.1, 1.1)\n",
      "plt.show()"
     ],
     "language": "python",
     "metadata": {},
     "outputs": []
    },
    {
     "cell_type": "code",
     "collapsed": false,
     "input": [
      "plt.triplot(points[:,0], points[:,1], tri.simplices.copy())\n",
      "plt.plot(points[:,0], points[:,1], 'o')\n",
      "\n",
      "for j, p in enumerate(points):\n",
      "    plt.text(p[0]-0.03, p[1]+0.03, j, ha='right') # label the points\n",
      "for j, s in enumerate(tri.simplices):\n",
      "    p = points[s].mean(axis=0)\n",
      "    plt.text(p[0], p[1], '#%d' % j, ha='center') # label triangles\n",
      "plt.xlim(-0.1, 1.1); plt.ylim(-0.1, 1.1)\n",
      "plt.show()"
     ],
     "language": "python",
     "metadata": {},
     "outputs": []
    },
    {
     "cell_type": "code",
     "collapsed": false,
     "input": [
      "tri.nsimplex"
     ],
     "language": "python",
     "metadata": {},
     "outputs": []
    },
    {
     "cell_type": "heading",
     "level": 2,
     "metadata": {},
     "source": [
      "Convex hulls"
     ]
    },
    {
     "cell_type": "markdown",
     "metadata": {},
     "source": [
      "Convex hull is the smallest convex object containing all points in a given point set.\n",
      "\n",
      "These can be computed via the Qhull wrappers in scipy.spatial as follows:"
     ]
    },
    {
     "cell_type": "markdown",
     "metadata": {},
     "source": [
      "Convex hull of a random set of points:"
     ]
    },
    {
     "cell_type": "code",
     "collapsed": false,
     "input": [
      "from scipy.spatial import ConvexHull\n",
      "points = np.random.rand(20, 2)   # 20 random points in 2-D\n",
      "print points"
     ],
     "language": "python",
     "metadata": {},
     "outputs": []
    },
    {
     "cell_type": "code",
     "collapsed": false,
     "input": [
      "hull = ConvexHull(points)"
     ],
     "language": "python",
     "metadata": {},
     "outputs": []
    },
    {
     "cell_type": "code",
     "collapsed": false,
     "input": [
      "help(hull)"
     ],
     "language": "python",
     "metadata": {},
     "outputs": []
    },
    {
     "cell_type": "code",
     "collapsed": false,
     "input": [
      "print dir(hull)"
     ],
     "language": "python",
     "metadata": {},
     "outputs": []
    },
    {
     "cell_type": "markdown",
     "metadata": {},
     "source": [
      "Check the number of points that was included"
     ]
    },
    {
     "cell_type": "code",
     "collapsed": false,
     "input": [
      "hull.npoints"
     ],
     "language": "python",
     "metadata": {},
     "outputs": []
    },
    {
     "cell_type": "markdown",
     "metadata": {},
     "source": [
      "Check to see if any input points were left out"
     ]
    },
    {
     "cell_type": "code",
     "collapsed": false,
     "input": [
      "hull.coplanar"
     ],
     "language": "python",
     "metadata": {},
     "outputs": []
    },
    {
     "cell_type": "markdown",
     "metadata": {},
     "source": [
      "Which points out of the 20 became vertices"
     ]
    },
    {
     "cell_type": "code",
     "collapsed": false,
     "input": [
      "hull.vertices"
     ],
     "language": "python",
     "metadata": {},
     "outputs": []
    },
    {
     "cell_type": "markdown",
     "metadata": {},
     "source": [
      "Count the line segments or facets with the nsimplex attribute"
     ]
    },
    {
     "cell_type": "code",
     "collapsed": false,
     "input": [
      "hull.nsimplex"
     ],
     "language": "python",
     "metadata": {},
     "outputs": []
    },
    {
     "cell_type": "markdown",
     "metadata": {},
     "source": [
      "Note the difference with using nsimplex here and with Delaunay triangles"
     ]
    },
    {
     "cell_type": "markdown",
     "metadata": {},
     "source": [
      "The simplices attribute contain the indices of input points forming the line segments or facets"
     ]
    },
    {
     "cell_type": "code",
     "collapsed": false,
     "input": [
      "hull.simplices"
     ],
     "language": "python",
     "metadata": {},
     "outputs": []
    },
    {
     "cell_type": "markdown",
     "metadata": {},
     "source": [
      "The convex hull is represented as a set of N-1 dimensional simplices, which in 2-D means line segments. The storage scheme is the same as for the simplices in the Delaunay triangulation discussed above.\n",
      "\n",
      "To illustrate the above result:"
     ]
    },
    {
     "cell_type": "markdown",
     "metadata": {},
     "source": [
      "Construct the hull using the line segments"
     ]
    },
    {
     "cell_type": "code",
     "collapsed": false,
     "input": [
      "plt.plot(points[:,0], points[:,1], 'o')"
     ],
     "language": "python",
     "metadata": {},
     "outputs": []
    },
    {
     "cell_type": "code",
     "collapsed": false,
     "input": [
      "for simplex in hull.simplices:\n",
      "    plt.plot(points[simplex,0], points[simplex,1], 'k-')"
     ],
     "language": "python",
     "metadata": {},
     "outputs": []
    },
    {
     "cell_type": "markdown",
     "metadata": {},
     "source": [
      "We could also have directly used the vertices of the hull, which for 2-D are guaranteed to be in counterclockwise order:"
     ]
    },
    {
     "cell_type": "code",
     "collapsed": false,
     "input": [
      "plt.plot(points[hull.vertices,0], points[hull.vertices,1], 'r--', lw=2)\n",
      "plt.plot(points[hull.vertices[0],0], points[hull.vertices[0],1], 'ro')\n",
      "plt.show()"
     ],
     "language": "python",
     "metadata": {},
     "outputs": []
    },
    {
     "cell_type": "markdown",
     "metadata": {},
     "source": [
      "Put it all together"
     ]
    },
    {
     "cell_type": "code",
     "collapsed": false,
     "input": [
      "plt.plot(points[:,0], points[:,1], 'o')\n",
      "for simplex in hull.simplices:\n",
      "    plt.plot(points[simplex,0], points[simplex,1], 'k-')\n",
      "    \n",
      "plt.plot(points[hull.vertices,0], points[hull.vertices,1], 'r--', lw=2)\n",
      "plt.plot(points[hull.vertices[0],0], points[hull.vertices[0],1], 'ro')\n",
      "plt.show()"
     ],
     "language": "python",
     "metadata": {},
     "outputs": []
    },
    {
     "cell_type": "code",
     "collapsed": false,
     "input": [
      "hull.max_bound"
     ],
     "language": "python",
     "metadata": {},
     "outputs": []
    },
    {
     "cell_type": "code",
     "collapsed": false,
     "input": [
      "hull.min_bound"
     ],
     "language": "python",
     "metadata": {},
     "outputs": []
    },
    {
     "cell_type": "heading",
     "level": 2,
     "metadata": {},
     "source": [
      "Voronoi diagrams\u00b6"
     ]
    },
    {
     "cell_type": "markdown",
     "metadata": {},
     "source": [
      "A Voronoi diagram is a subdivision of the space into the nearest neighborhoods of a given set of points. It is dual to the Delaunay triangulation."
     ]
    },
    {
     "cell_type": "code",
     "collapsed": false,
     "input": [
      "points = np.array([[0, 0], [0, 1], [0, 2], [1, 0], [1, 1], [1, 2],\n",
      "                   [2, 0], [2, 1], [2, 2]])\n",
      "from scipy.spatial import Voronoi, voronoi_plot_2d\n",
      "vor = Voronoi(points)"
     ],
     "language": "python",
     "metadata": {},
     "outputs": []
    },
    {
     "cell_type": "code",
     "collapsed": false,
     "input": [
      "print dir(vor)"
     ],
     "language": "python",
     "metadata": {},
     "outputs": []
    },
    {
     "cell_type": "markdown",
     "metadata": {},
     "source": [
      "Check the number of input points"
     ]
    },
    {
     "cell_type": "code",
     "collapsed": false,
     "input": [
      "vor.npoints"
     ],
     "language": "python",
     "metadata": {},
     "outputs": []
    },
    {
     "cell_type": "markdown",
     "metadata": {},
     "source": [
      "Find the index of Voronoi region for each input point. "
     ]
    },
    {
     "cell_type": "code",
     "collapsed": false,
     "input": [
      "vor.point_region"
     ],
     "language": "python",
     "metadata": {},
     "outputs": []
    },
    {
     "cell_type": "markdown",
     "metadata": {},
     "source": [
      "Plot it"
     ]
    },
    {
     "cell_type": "code",
     "collapsed": false,
     "input": [
      "voronoi_plot_2d(vor)\n",
      "plt.show()"
     ],
     "language": "python",
     "metadata": {},
     "outputs": []
    },
    {
     "cell_type": "code",
     "collapsed": false,
     "input": [
      "vor.max_bound"
     ],
     "language": "python",
     "metadata": {},
     "outputs": []
    },
    {
     "cell_type": "code",
     "collapsed": false,
     "input": [
      "vor.min_bound"
     ],
     "language": "python",
     "metadata": {},
     "outputs": []
    },
    {
     "cell_type": "markdown",
     "metadata": {},
     "source": [
      "Find out coordinates of the Voronoi vertices:"
     ]
    },
    {
     "cell_type": "code",
     "collapsed": false,
     "input": [
      "vor.vertices"
     ],
     "language": "python",
     "metadata": {},
     "outputs": []
    },
    {
     "cell_type": "markdown",
     "metadata": {},
     "source": [
      "Notice that the unknown or points at infinity vertices are skipped"
     ]
    },
    {
     "cell_type": "markdown",
     "metadata": {},
     "source": [
      "Find out the regions in terms of the index of the Voronoi vertices:"
     ]
    },
    {
     "cell_type": "code",
     "collapsed": false,
     "input": [
      "vor.regions"
     ],
     "language": "python",
     "metadata": {},
     "outputs": []
    },
    {
     "cell_type": "markdown",
     "metadata": {},
     "source": [
      "-1 indicates a vertex outside the Voronoi diagram or a point of infinity. Only 1 of the regions is bounded or finite."
     ]
    },
    {
     "cell_type": "markdown",
     "metadata": {},
     "source": [
      "Find indices of the Voronoi vertices making up the line segments:"
     ]
    },
    {
     "cell_type": "code",
     "collapsed": false,
     "input": [
      "vor.ridge_vertices"
     ],
     "language": "python",
     "metadata": {},
     "outputs": []
    },
    {
     "cell_type": "markdown",
     "metadata": {},
     "source": [
      "-1 is again a point at infinity \u2014 only 4 of the 12 lines is a bounded line segment while the others extend to infinity."
     ]
    },
    {
     "cell_type": "markdown",
     "metadata": {},
     "source": [
      "The Voronoi ridges are perpendicular to lines drawn between the input points. Which two input points each ridge corresponds to is recorded"
     ]
    },
    {
     "cell_type": "code",
     "collapsed": false,
     "input": [
      "vor.ridge_points"
     ],
     "language": "python",
     "metadata": {},
     "outputs": []
    },
    {
     "cell_type": "markdown",
     "metadata": {},
     "source": [
      "Or see which input points correspond to which Voronoi line segments"
     ]
    },
    {
     "cell_type": "code",
     "collapsed": false,
     "input": [
      "vor.ridge_dict"
     ],
     "language": "python",
     "metadata": {},
     "outputs": []
    },
    {
     "cell_type": "markdown",
     "metadata": {},
     "source": [
      "Let's see Voronoi diagram for some random points"
     ]
    },
    {
     "cell_type": "code",
     "collapsed": false,
     "input": [
      "points = np.random.rand(20, 2)   # 20 random points in 2-D\n",
      "print points"
     ],
     "language": "python",
     "metadata": {},
     "outputs": []
    },
    {
     "cell_type": "code",
     "collapsed": false,
     "input": [
      "plt.plot(points[:,0], points[:,1], 'o')"
     ],
     "language": "python",
     "metadata": {},
     "outputs": []
    },
    {
     "cell_type": "code",
     "collapsed": false,
     "input": [
      "vor = Voronoi(points)"
     ],
     "language": "python",
     "metadata": {},
     "outputs": []
    },
    {
     "cell_type": "code",
     "collapsed": false,
     "input": [
      "voronoi_plot_2d(vor)\n",
      "plt.show()"
     ],
     "language": "python",
     "metadata": {},
     "outputs": []
    },
    {
     "cell_type": "heading",
     "level": 2,
     "metadata": {},
     "source": [
      "KDTree"
     ]
    },
    {
     "cell_type": "markdown",
     "metadata": {},
     "source": [
      "KDTree can be used to query for nearest neighbor lookup"
     ]
    },
    {
     "cell_type": "markdown",
     "metadata": {},
     "source": [
      "A Voronoi diagram using KDTree: "
     ]
    },
    {
     "cell_type": "code",
     "collapsed": false,
     "input": [
      "from scipy.spatial import KDTree\n",
      "points = np.array([[0, 0], [0, 1], [0, 2], [1, 0], [1, 1], [1, 2],\n",
      "                   [2, 0], [2, 1], [2, 2]])\n",
      "tree = KDTree(points)"
     ],
     "language": "python",
     "metadata": {},
     "outputs": []
    },
    {
     "cell_type": "code",
     "collapsed": false,
     "input": [
      "help(tree)"
     ],
     "language": "python",
     "metadata": {},
     "outputs": []
    },
    {
     "cell_type": "code",
     "collapsed": false,
     "input": [
      "print dir(tree)"
     ],
     "language": "python",
     "metadata": {},
     "outputs": []
    },
    {
     "cell_type": "markdown",
     "metadata": {},
     "source": [
      "Find the number of regions"
     ]
    },
    {
     "cell_type": "code",
     "collapsed": false,
     "input": [
      "tree.n"
     ],
     "language": "python",
     "metadata": {},
     "outputs": []
    },
    {
     "cell_type": "code",
     "collapsed": false,
     "input": [
      "x = np.linspace(-0.5, 2.5, 31)\n",
      "y = np.linspace(-0.5, 2.5, 33)\n",
      "xx, yy = np.meshgrid(x, y)\n",
      "xy = np.c_[xx.ravel(), yy.ravel()]\n",
      "\n",
      "plt.pcolor(x, y, tree.query(xy)[1].reshape(33, 31))\n",
      "plt.plot(points[:,0], points[:,1], 'ko')\n",
      "plt.show()"
     ],
     "language": "python",
     "metadata": {},
     "outputs": []
    },
    {
     "cell_type": "markdown",
     "metadata": {},
     "source": [
      "However this does not give the Voronoi diagram as a geometrical object."
     ]
    },
    {
     "cell_type": "markdown",
     "metadata": {},
     "source": [
      "Find out which region a point falls in and its distance from the input point"
     ]
    },
    {
     "cell_type": "code",
     "collapsed": false,
     "input": [
      "tree.query([0.1, 0.1])"
     ],
     "language": "python",
     "metadata": {},
     "outputs": []
    },
    {
     "cell_type": "markdown",
     "metadata": {},
     "source": [
      "So the point (0.1, 0.1) belongs to region 0."
     ]
    },
    {
     "cell_type": "code",
     "collapsed": false,
     "input": [
      "tree.query([0.3, 1])"
     ],
     "language": "python",
     "metadata": {},
     "outputs": []
    },
    {
     "cell_type": "code",
     "collapsed": false,
     "input": [
      "tree.query([0.5, 0])"
     ],
     "language": "python",
     "metadata": {},
     "outputs": []
    },
    {
     "cell_type": "code",
     "collapsed": false,
     "input": [
      "tree.query([0.50000000000001, 0])"
     ],
     "language": "python",
     "metadata": {},
     "outputs": []
    },
    {
     "cell_type": "markdown",
     "metadata": {},
     "source": [
      "Show all pairs of points within a given distance"
     ]
    },
    {
     "cell_type": "code",
     "collapsed": false,
     "input": [
      "x = tree.sparse_distance_matrix(tree, 1.5)\n",
      "print x"
     ],
     "language": "python",
     "metadata": {},
     "outputs": []
    },
    {
     "cell_type": "markdown",
     "metadata": {},
     "source": [
      "Let's see a KDTree based Voronoi diagram for a set of random points"
     ]
    },
    {
     "cell_type": "code",
     "collapsed": false,
     "input": [
      "points = np.random.rand(20, 2)   # 20 random points in 2-D\n",
      "print points"
     ],
     "language": "python",
     "metadata": {},
     "outputs": []
    },
    {
     "cell_type": "code",
     "collapsed": false,
     "input": [
      "tree = KDTree(points)"
     ],
     "language": "python",
     "metadata": {},
     "outputs": []
    },
    {
     "cell_type": "code",
     "collapsed": false,
     "input": [
      "x = np.linspace(-0.5, 1.5, 100)\n",
      "y = np.linspace(-0.5, 1.5, 33)\n",
      "xx, yy = np.meshgrid(x, y)\n",
      "xy = np.c_[xx.ravel(), yy.ravel()]\n",
      "\n",
      "plt.pcolor(x, y, tree.query(xy)[1].reshape(33, 100))\n",
      "plt.plot(points[:,0], points[:,1], 'ko')\n",
      "plt.show()"
     ],
     "language": "python",
     "metadata": {},
     "outputs": []
    },
    {
     "cell_type": "markdown",
     "metadata": {},
     "source": [
      "Here we can see the KDTree method for Voronoi creates a raster based image"
     ]
    },
    {
     "cell_type": "code",
     "collapsed": false,
     "input": [
      "tree.n"
     ],
     "language": "python",
     "metadata": {},
     "outputs": []
    },
    {
     "cell_type": "markdown",
     "metadata": {},
     "source": [
      "Let's create some new points"
     ]
    },
    {
     "cell_type": "code",
     "collapsed": false,
     "input": [
      "x, y = np.mgrid[0:3, 0:3]\n",
      "points = zip(x.ravel(), y.ravel())\n",
      "tree = KDTree(points)\n",
      "tree.data"
     ],
     "language": "python",
     "metadata": {},
     "outputs": []
    },
    {
     "cell_type": "markdown",
     "metadata": {},
     "source": [
      "With query_ball_point(x, r): Find all points within distance r of point(s) x."
     ]
    },
    {
     "cell_type": "code",
     "collapsed": false,
     "input": [
      "tree.query_ball_point([0, 0], 2)"
     ],
     "language": "python",
     "metadata": {},
     "outputs": []
    },
    {
     "cell_type": "markdown",
     "metadata": {},
     "source": [
      "These points are within 2 of point [0, 0]"
     ]
    },
    {
     "cell_type": "markdown",
     "metadata": {},
     "source": [
      "With query_pairs(r): Find all pairs of points within a distance."
     ]
    },
    {
     "cell_type": "code",
     "collapsed": false,
     "input": [
      "tree.query_pairs(1)"
     ],
     "language": "python",
     "metadata": {},
     "outputs": []
    },
    {
     "cell_type": "markdown",
     "metadata": {},
     "source": [
      "With query(x): Query the kd-tree for nearest neighbors"
     ]
    },
    {
     "cell_type": "code",
     "collapsed": false,
     "input": [
      "pts = np.array([[0, 2], [3, 3]])\n",
      "tree.query(pts)"
     ],
     "language": "python",
     "metadata": {},
     "outputs": []
    },
    {
     "cell_type": "markdown",
     "metadata": {},
     "source": [
      "The first array tells us the distance away while the second array tells us the nearest neigbor by index"
     ]
    },
    {
     "cell_type": "heading",
     "level": 2,
     "metadata": {},
     "source": [
      "Distance (scipy.spatial.distance)"
     ]
    },
    {
     "cell_type": "code",
     "collapsed": false,
     "input": [
      "print dir(sp.spatial.distance)"
     ],
     "language": "python",
     "metadata": {},
     "outputs": []
    },
    {
     "cell_type": "heading",
     "level": 3,
     "metadata": {},
     "source": [
      "pdist: Pairwise distances between observations"
     ]
    },
    {
     "cell_type": "markdown",
     "metadata": {},
     "source": [
      "Euclidean distance: Y = pdist(X, 'euclidean')"
     ]
    },
    {
     "cell_type": "code",
     "collapsed": false,
     "input": [
      "sp.spatial.distance.pdist([[0,4],[9,3]], 'euclidean')"
     ],
     "language": "python",
     "metadata": {},
     "outputs": []
    },
    {
     "cell_type": "markdown",
     "metadata": {},
     "source": [
      "City block or Manhattan distance: Y = pdist(X, 'cityblock')"
     ]
    },
    {
     "cell_type": "code",
     "collapsed": false,
     "input": [
      "sp.spatial.distance.pdist([[0,4],[9,3]], 'cityblock')"
     ],
     "language": "python",
     "metadata": {},
     "outputs": []
    },
    {
     "cell_type": "markdown",
     "metadata": {},
     "source": [
      "Minkowski distance: Y = pdist(X, 'minkowski', p)"
     ]
    },
    {
     "cell_type": "code",
     "collapsed": false,
     "input": [
      "sp.spatial.distance.pdist([[0,4],[9,3]], 'minkowski', 2)"
     ],
     "language": "python",
     "metadata": {},
     "outputs": []
    },
    {
     "cell_type": "heading",
     "level": 2,
     "metadata": {},
     "source": [
      "Everything else"
     ]
    },
    {
     "cell_type": "markdown",
     "metadata": {},
     "source": [
      "For more on scipy.spatial: http://docs.scipy.org/doc/scipy/reference/spatial.html"
     ]
    }
   ],
   "metadata": {}
  }
 ]
}